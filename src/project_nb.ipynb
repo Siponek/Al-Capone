{
 "cells": [
  {
   "cell_type": "code",
   "execution_count": 1,
   "metadata": {},
   "outputs": [],
   "source": [
    "import networkx as nx\n",
    "import sys\n",
    "from pathlib import Path\n",
    "import matplotlib.pyplot as plt"
   ]
  },
  {
   "cell_type": "code",
   "execution_count": 6,
   "metadata": {},
   "outputs": [
    {
     "name": "stdout",
     "output_type": "stream",
     "text": [
      "Using dataset from c:\\Users\\szink\\Desktop\\programming\\NetworkAnalysis\\assigment1\\src\\..\\data\\bn-mouse-kasthuri_graph_v4.edges\n",
      "#nodes: 1029 and #edges: 1559\n"
     ]
    }
   ],
   "source": [
    "# Import Dataset\n",
    "DATA_PATH = Path('../data/bn-mouse-kasthuri_graph_v4.edges')\n",
    "print(f\"Using dataset from {DATA_PATH.absolute()}\")\n",
    "G = nx.read_edgelist(path=DATA_PATH, create_using=nx.Graph(), nodetype=int)\n",
    "print('#nodes:', len(G.nodes()), 'and', '#edges:', len(G.edges()))"
   ]
  },
  {
   "cell_type": "code",
   "execution_count": null,
   "metadata": {},
   "outputs": [],
   "source": []
  }
 ],
 "metadata": {
  "kernelspec": {
   "display_name": "venv",
   "language": "python",
   "name": "python3"
  },
  "language_info": {
   "codemirror_mode": {
    "name": "ipython",
    "version": 3
   },
   "file_extension": ".py",
   "mimetype": "text/x-python",
   "name": "python",
   "nbconvert_exporter": "python",
   "pygments_lexer": "ipython3",
   "version": "3.11.6"
  }
 },
 "nbformat": 4,
 "nbformat_minor": 2
}
